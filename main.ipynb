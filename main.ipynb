{
 "cells": [
  {
   "cell_type": "code",
   "execution_count": 1,
   "id": "a2c391c5",
   "metadata": {},
   "outputs": [],
   "source": [
    "import pandas as pd\n",
    "from xgboost import XGBRegressor\n",
    "from sklearn.model_selection import train_test_split\n",
    "import numpy as np\n",
    "from torch import nn\n",
    "from torch.utils.data import DataLoader\n",
    "import torch\n",
    "from tqdm import tqdm\n",
    "import matplotlib.pyplot as plt\n",
    "import seaborn as sns"
   ]
  },
  {
   "cell_type": "code",
   "execution_count": 2,
   "id": "8d5f8b4a",
   "metadata": {},
   "outputs": [],
   "source": [
    "def metric(true, pred, coef=1000):\n",
    "    assert len(true) == len(pred)\n",
    "    error = 0\n",
    "    for i in range(len(true)):\n",
    "        if true[i] > pred[i]:\n",
    "            error += true[i] - pred[i]\n",
    "        else:\n",
    "            error += (pred[i] - true[i]) * coef\n",
    "    return -round(error / len(true) / 1_000_000_000)\n",
    "\n",
    "def metric_loss(true, pred, coef=1000.0):\n",
    "    assert len(true) == len(pred)\n",
    "\n",
    "    diff = true - pred\n",
    "    loss = torch.abs(diff)\n",
    "    loss = torch.where(diff < 0, loss * coef, loss)\n",
    "    return loss.mean()"
   ]
  },
  {
   "cell_type": "code",
   "execution_count": 3,
   "id": "cfab94d1",
   "metadata": {},
   "outputs": [],
   "source": [
    "class CustomLoss(nn.Module):\n",
    "    def __init__(self):\n",
    "        super().__init__()\n",
    "\n",
    "    def forward(self, pred, true, coef=1000.0):\n",
    "        assert len(true) == len(pred)\n",
    "\n",
    "        diff = true - pred\n",
    "        loss = torch.abs(diff)\n",
    "        loss = torch.where(diff < 0, loss * coef, loss)\n",
    "        return loss.mean()\n",
    "    \n",
    "class CustomBCELoss(nn.Module):\n",
    "    def __init__(self):\n",
    "        super().__init__()\n",
    "\n",
    "    def forward(self, output, target):        \n",
    "        sigm = nn.functional.sigmoid(output)\n",
    "        target = nn.functional.sigmoid(target)\n",
    "        left = target * torch.log(sigm)\n",
    "        right = (1 - target) * torch.log(1 - sigm)\n",
    "        print(sigm)\n",
    "        print(target)\n",
    "        \n",
    "        loss = left + right\n",
    "        return -loss.mean()"
   ]
  },
  {
   "cell_type": "code",
   "execution_count": 4,
   "id": "5a9d58ae",
   "metadata": {},
   "outputs": [],
   "source": [
    "df_train = pd.read_csv('data/train.csv')\n",
    "df_test = pd.read_csv('data/test.csv')"
   ]
  },
  {
   "cell_type": "code",
   "execution_count": 5,
   "id": "5ad7ab6c",
   "metadata": {},
   "outputs": [
    {
     "data": {
      "text/html": [
       "<div>\n",
       "<style scoped>\n",
       "    .dataframe tbody tr th:only-of-type {\n",
       "        vertical-align: middle;\n",
       "    }\n",
       "\n",
       "    .dataframe tbody tr th {\n",
       "        vertical-align: top;\n",
       "    }\n",
       "\n",
       "    .dataframe thead th {\n",
       "        text-align: right;\n",
       "    }\n",
       "</style>\n",
       "<table border=\"1\" class=\"dataframe\">\n",
       "  <thead>\n",
       "    <tr style=\"text-align: right;\">\n",
       "      <th></th>\n",
       "      <th>id</th>\n",
       "      <th>day 1</th>\n",
       "      <th>day 2</th>\n",
       "      <th>day 3</th>\n",
       "      <th>day 4</th>\n",
       "      <th>day 5</th>\n",
       "      <th>day 6</th>\n",
       "      <th>day 7</th>\n",
       "      <th>day 8</th>\n",
       "      <th>day 9</th>\n",
       "      <th>...</th>\n",
       "      <th>day 81</th>\n",
       "      <th>day 82</th>\n",
       "      <th>day 83</th>\n",
       "      <th>day 84</th>\n",
       "      <th>day 85</th>\n",
       "      <th>day 86</th>\n",
       "      <th>day 87</th>\n",
       "      <th>day 88</th>\n",
       "      <th>day 89</th>\n",
       "      <th>day 90</th>\n",
       "    </tr>\n",
       "  </thead>\n",
       "  <tbody>\n",
       "    <tr>\n",
       "      <th>0</th>\n",
       "      <td>6602185159948</td>\n",
       "      <td>569369144437</td>\n",
       "      <td>152818843344</td>\n",
       "      <td>-15490421929</td>\n",
       "      <td>-406624212</td>\n",
       "      <td>800362695678</td>\n",
       "      <td>2306966308406</td>\n",
       "      <td>1917859437929</td>\n",
       "      <td>1075925676467</td>\n",
       "      <td>277630770065</td>\n",
       "      <td>...</td>\n",
       "      <td>-23536698564</td>\n",
       "      <td>1524999469315</td>\n",
       "      <td>1668473296482</td>\n",
       "      <td>-55911238122</td>\n",
       "      <td>1105906678699</td>\n",
       "      <td>1134120612066</td>\n",
       "      <td>-26829699967</td>\n",
       "      <td>-19492512239</td>\n",
       "      <td>1850461161279</td>\n",
       "      <td>-1781621104800</td>\n",
       "    </tr>\n",
       "    <tr>\n",
       "      <th>1</th>\n",
       "      <td>1663310387493</td>\n",
       "      <td>-104722473995</td>\n",
       "      <td>-29275417695</td>\n",
       "      <td>423353969042</td>\n",
       "      <td>416864670779</td>\n",
       "      <td>-323866168258</td>\n",
       "      <td>-59323097843</td>\n",
       "      <td>58355171506</td>\n",
       "      <td>250838843414</td>\n",
       "      <td>-184607036341</td>\n",
       "      <td>...</td>\n",
       "      <td>529867756317</td>\n",
       "      <td>-245569015020</td>\n",
       "      <td>-13050008306</td>\n",
       "      <td>1122739774405</td>\n",
       "      <td>-358972410001</td>\n",
       "      <td>-294465761456</td>\n",
       "      <td>289760186052</td>\n",
       "      <td>588830896355</td>\n",
       "      <td>-21661542192</td>\n",
       "      <td>-153747680862</td>\n",
       "    </tr>\n",
       "    <tr>\n",
       "      <th>2</th>\n",
       "      <td>3604676372924</td>\n",
       "      <td>-42697753432</td>\n",
       "      <td>154940888256</td>\n",
       "      <td>5290701628</td>\n",
       "      <td>2915610080</td>\n",
       "      <td>-241412656598</td>\n",
       "      <td>-2172755647</td>\n",
       "      <td>-60115526657</td>\n",
       "      <td>99210264232</td>\n",
       "      <td>281086593365</td>\n",
       "      <td>...</td>\n",
       "      <td>32773187167</td>\n",
       "      <td>-347787851371</td>\n",
       "      <td>172520154368</td>\n",
       "      <td>46099833867</td>\n",
       "      <td>-297776587790</td>\n",
       "      <td>200380940252</td>\n",
       "      <td>153279754373</td>\n",
       "      <td>42773997259</td>\n",
       "      <td>5607112117</td>\n",
       "      <td>4789271560371</td>\n",
       "    </tr>\n",
       "    <tr>\n",
       "      <th>3</th>\n",
       "      <td>3517792576177</td>\n",
       "      <td>735945593435</td>\n",
       "      <td>877636042341</td>\n",
       "      <td>-5241075542</td>\n",
       "      <td>-1817826687</td>\n",
       "      <td>1008399822616</td>\n",
       "      <td>996548931508</td>\n",
       "      <td>471592893006</td>\n",
       "      <td>479393037398</td>\n",
       "      <td>246618026800</td>\n",
       "      <td>...</td>\n",
       "      <td>4227540489</td>\n",
       "      <td>855279732927</td>\n",
       "      <td>808871471815</td>\n",
       "      <td>-8997018250</td>\n",
       "      <td>627399608353</td>\n",
       "      <td>223093070252</td>\n",
       "      <td>-25844611162</td>\n",
       "      <td>-9955925825</td>\n",
       "      <td>603978495789</td>\n",
       "      <td>366344015281</td>\n",
       "    </tr>\n",
       "    <tr>\n",
       "      <th>4</th>\n",
       "      <td>6892195368446</td>\n",
       "      <td>697850269572</td>\n",
       "      <td>980815916948</td>\n",
       "      <td>-11470196952</td>\n",
       "      <td>-21103754202</td>\n",
       "      <td>1207799272628</td>\n",
       "      <td>1202816134496</td>\n",
       "      <td>559646086486</td>\n",
       "      <td>1058635690664</td>\n",
       "      <td>122661998719</td>\n",
       "      <td>...</td>\n",
       "      <td>-17229675906</td>\n",
       "      <td>940502608045</td>\n",
       "      <td>728437869463</td>\n",
       "      <td>13477840270</td>\n",
       "      <td>1455297859610</td>\n",
       "      <td>409612399843</td>\n",
       "      <td>-6730004331</td>\n",
       "      <td>19193466540</td>\n",
       "      <td>1163355637082</td>\n",
       "      <td>-138405088616</td>\n",
       "    </tr>\n",
       "    <tr>\n",
       "      <th>...</th>\n",
       "      <td>...</td>\n",
       "      <td>...</td>\n",
       "      <td>...</td>\n",
       "      <td>...</td>\n",
       "      <td>...</td>\n",
       "      <td>...</td>\n",
       "      <td>...</td>\n",
       "      <td>...</td>\n",
       "      <td>...</td>\n",
       "      <td>...</td>\n",
       "      <td>...</td>\n",
       "      <td>...</td>\n",
       "      <td>...</td>\n",
       "      <td>...</td>\n",
       "      <td>...</td>\n",
       "      <td>...</td>\n",
       "      <td>...</td>\n",
       "      <td>...</td>\n",
       "      <td>...</td>\n",
       "      <td>...</td>\n",
       "      <td>...</td>\n",
       "    </tr>\n",
       "    <tr>\n",
       "      <th>19995</th>\n",
       "      <td>6120398522001</td>\n",
       "      <td>-24628787635</td>\n",
       "      <td>267495848867</td>\n",
       "      <td>-12230119509</td>\n",
       "      <td>-679136157</td>\n",
       "      <td>-187955674883</td>\n",
       "      <td>4597158234</td>\n",
       "      <td>-2418401538</td>\n",
       "      <td>9854043544</td>\n",
       "      <td>-14559914953</td>\n",
       "      <td>...</td>\n",
       "      <td>-7158916464</td>\n",
       "      <td>204729538824</td>\n",
       "      <td>-39577541831</td>\n",
       "      <td>-18068542326</td>\n",
       "      <td>105241442152</td>\n",
       "      <td>-59936288497</td>\n",
       "      <td>-26435699898</td>\n",
       "      <td>-1400118718</td>\n",
       "      <td>250752357103</td>\n",
       "      <td>818156843427</td>\n",
       "    </tr>\n",
       "    <tr>\n",
       "      <th>19996</th>\n",
       "      <td>3883376591531</td>\n",
       "      <td>23385081422</td>\n",
       "      <td>-15228303151</td>\n",
       "      <td>-8918281087</td>\n",
       "      <td>-7772984843</td>\n",
       "      <td>-7543131908</td>\n",
       "      <td>123891713099</td>\n",
       "      <td>-81767137062</td>\n",
       "      <td>62477678253</td>\n",
       "      <td>44174672734</td>\n",
       "      <td>...</td>\n",
       "      <td>-7626731747</td>\n",
       "      <td>157231720804</td>\n",
       "      <td>79682589968</td>\n",
       "      <td>-26953658290</td>\n",
       "      <td>53427137426</td>\n",
       "      <td>59564486558</td>\n",
       "      <td>-20909395485</td>\n",
       "      <td>-15970211056</td>\n",
       "      <td>223711674873</td>\n",
       "      <td>-815055027</td>\n",
       "    </tr>\n",
       "    <tr>\n",
       "      <th>19997</th>\n",
       "      <td>8492364329502</td>\n",
       "      <td>-17572384426</td>\n",
       "      <td>215467299511</td>\n",
       "      <td>-9758708941</td>\n",
       "      <td>-3626522770</td>\n",
       "      <td>-182333216840</td>\n",
       "      <td>70907176369</td>\n",
       "      <td>-16418782963</td>\n",
       "      <td>-1289752268</td>\n",
       "      <td>299779480157</td>\n",
       "      <td>...</td>\n",
       "      <td>-17792945695</td>\n",
       "      <td>-336100103876</td>\n",
       "      <td>266432384316</td>\n",
       "      <td>-36450926686</td>\n",
       "      <td>-7151728550</td>\n",
       "      <td>185309970484</td>\n",
       "      <td>59247462995</td>\n",
       "      <td>-17951159898</td>\n",
       "      <td>-66380991478</td>\n",
       "      <td>3395054610973</td>\n",
       "    </tr>\n",
       "    <tr>\n",
       "      <th>19998</th>\n",
       "      <td>4485476161662</td>\n",
       "      <td>-34373226151</td>\n",
       "      <td>-123943635780</td>\n",
       "      <td>2186315945</td>\n",
       "      <td>1323094644</td>\n",
       "      <td>44423732764</td>\n",
       "      <td>67484356011</td>\n",
       "      <td>-29553565822</td>\n",
       "      <td>66448231612</td>\n",
       "      <td>-3151812187</td>\n",
       "      <td>...</td>\n",
       "      <td>29253821343</td>\n",
       "      <td>186004596897</td>\n",
       "      <td>-38862536845</td>\n",
       "      <td>49943281842</td>\n",
       "      <td>-70544749716</td>\n",
       "      <td>106782921385</td>\n",
       "      <td>51233576000</td>\n",
       "      <td>43731331086</td>\n",
       "      <td>-3692332109</td>\n",
       "      <td>-89024228031</td>\n",
       "    </tr>\n",
       "    <tr>\n",
       "      <th>19999</th>\n",
       "      <td>3215236198738</td>\n",
       "      <td>-23217868277</td>\n",
       "      <td>-83183293656</td>\n",
       "      <td>-17290978783</td>\n",
       "      <td>-20704607579</td>\n",
       "      <td>57063231086</td>\n",
       "      <td>-8518888768</td>\n",
       "      <td>-8843909327</td>\n",
       "      <td>140494150914</td>\n",
       "      <td>-94676359319</td>\n",
       "      <td>...</td>\n",
       "      <td>-19431853252</td>\n",
       "      <td>446803713691</td>\n",
       "      <td>96004057019</td>\n",
       "      <td>-15762923260</td>\n",
       "      <td>-139203862890</td>\n",
       "      <td>17091756159</td>\n",
       "      <td>-33970504187</td>\n",
       "      <td>-738988979</td>\n",
       "      <td>117194010253</td>\n",
       "      <td>-7089708905</td>\n",
       "    </tr>\n",
       "  </tbody>\n",
       "</table>\n",
       "<p>20000 rows × 91 columns</p>\n",
       "</div>"
      ],
      "text/plain": [
       "                  id         day 1         day 2         day 3         day 4  \\\n",
       "0      6602185159948  569369144437  152818843344  -15490421929    -406624212   \n",
       "1      1663310387493 -104722473995  -29275417695  423353969042  416864670779   \n",
       "2      3604676372924  -42697753432  154940888256    5290701628    2915610080   \n",
       "3      3517792576177  735945593435  877636042341   -5241075542   -1817826687   \n",
       "4      6892195368446  697850269572  980815916948  -11470196952  -21103754202   \n",
       "...              ...           ...           ...           ...           ...   \n",
       "19995  6120398522001  -24628787635  267495848867  -12230119509    -679136157   \n",
       "19996  3883376591531   23385081422  -15228303151   -8918281087   -7772984843   \n",
       "19997  8492364329502  -17572384426  215467299511   -9758708941   -3626522770   \n",
       "19998  4485476161662  -34373226151 -123943635780    2186315945    1323094644   \n",
       "19999  3215236198738  -23217868277  -83183293656  -17290978783  -20704607579   \n",
       "\n",
       "               day 5          day 6          day 7          day 8  \\\n",
       "0       800362695678  2306966308406  1917859437929  1075925676467   \n",
       "1      -323866168258   -59323097843    58355171506   250838843414   \n",
       "2      -241412656598    -2172755647   -60115526657    99210264232   \n",
       "3      1008399822616   996548931508   471592893006   479393037398   \n",
       "4      1207799272628  1202816134496   559646086486  1058635690664   \n",
       "...              ...            ...            ...            ...   \n",
       "19995  -187955674883     4597158234    -2418401538     9854043544   \n",
       "19996    -7543131908   123891713099   -81767137062    62477678253   \n",
       "19997  -182333216840    70907176369   -16418782963    -1289752268   \n",
       "19998    44423732764    67484356011   -29553565822    66448231612   \n",
       "19999    57063231086    -8518888768    -8843909327   140494150914   \n",
       "\n",
       "              day 9  ...        day 81         day 82         day 83  \\\n",
       "0      277630770065  ...  -23536698564  1524999469315  1668473296482   \n",
       "1     -184607036341  ...  529867756317  -245569015020   -13050008306   \n",
       "2      281086593365  ...   32773187167  -347787851371   172520154368   \n",
       "3      246618026800  ...    4227540489   855279732927   808871471815   \n",
       "4      122661998719  ...  -17229675906   940502608045   728437869463   \n",
       "...             ...  ...           ...            ...            ...   \n",
       "19995  -14559914953  ...   -7158916464   204729538824   -39577541831   \n",
       "19996   44174672734  ...   -7626731747   157231720804    79682589968   \n",
       "19997  299779480157  ...  -17792945695  -336100103876   266432384316   \n",
       "19998   -3151812187  ...   29253821343   186004596897   -38862536845   \n",
       "19999  -94676359319  ...  -19431853252   446803713691    96004057019   \n",
       "\n",
       "              day 84         day 85         day 86        day 87  \\\n",
       "0       -55911238122  1105906678699  1134120612066  -26829699967   \n",
       "1      1122739774405  -358972410001  -294465761456  289760186052   \n",
       "2        46099833867  -297776587790   200380940252  153279754373   \n",
       "3        -8997018250   627399608353   223093070252  -25844611162   \n",
       "4        13477840270  1455297859610   409612399843   -6730004331   \n",
       "...              ...            ...            ...           ...   \n",
       "19995   -18068542326   105241442152   -59936288497  -26435699898   \n",
       "19996   -26953658290    53427137426    59564486558  -20909395485   \n",
       "19997   -36450926686    -7151728550   185309970484   59247462995   \n",
       "19998    49943281842   -70544749716   106782921385   51233576000   \n",
       "19999   -15762923260  -139203862890    17091756159  -33970504187   \n",
       "\n",
       "             day 88         day 89         day 90  \n",
       "0      -19492512239  1850461161279 -1781621104800  \n",
       "1      588830896355   -21661542192  -153747680862  \n",
       "2       42773997259     5607112117  4789271560371  \n",
       "3       -9955925825   603978495789   366344015281  \n",
       "4       19193466540  1163355637082  -138405088616  \n",
       "...             ...            ...            ...  \n",
       "19995   -1400118718   250752357103   818156843427  \n",
       "19996  -15970211056   223711674873     -815055027  \n",
       "19997  -17951159898   -66380991478  3395054610973  \n",
       "19998   43731331086    -3692332109   -89024228031  \n",
       "19999    -738988979   117194010253    -7089708905  \n",
       "\n",
       "[20000 rows x 91 columns]"
      ]
     },
     "execution_count": 5,
     "metadata": {},
     "output_type": "execute_result"
    }
   ],
   "source": [
    "df_train"
   ]
  },
  {
   "cell_type": "code",
   "execution_count": 6,
   "id": "d00f738a",
   "metadata": {},
   "outputs": [],
   "source": [
    "seed = 42\n",
    "np.random.seed(seed)\n",
    "torch.manual_seed(seed)\n",
    "torch.backends.cudnn.deterministic = True\n",
    "torch.backends.cudnn.benchmark = False"
   ]
  },
  {
   "cell_type": "code",
   "execution_count": 7,
   "id": "c02bfafc",
   "metadata": {},
   "outputs": [],
   "source": [
    "device = 'cuda'"
   ]
  },
  {
   "cell_type": "code",
   "execution_count": 8,
   "id": "e7406478",
   "metadata": {},
   "outputs": [],
   "source": [
    "class Net(nn.Module):\n",
    "    def __init__(self, input_dim, hidden_dim, num_layers, output_dim):\n",
    "        super().__init__()\n",
    "        self.hidden_dim = hidden_dim\n",
    "        self.num_layers = num_layers\n",
    "        \n",
    "        self.lstm = nn.LSTM(input_dim, hidden_dim, num_layers, batch_first=True, bidirectional=True)\n",
    "        self.fc = nn.Linear(hidden_dim * 2, output_dim, bias=True)\n",
    "        \n",
    "    def forward(self, x):\n",
    "        h0 = torch.zeros(self.num_layers * 2, x.size(0), self.hidden_dim).requires_grad_()\n",
    "        c0 = torch.zeros(self.num_layers * 2, x.size(0), self.hidden_dim).requires_grad_()\n",
    "        out, (hn, cn) = self.lstm(x, (h0.detach().to(device), c0.detach().to(device)))\n",
    "        out = self.fc(out) \n",
    "        return out"
   ]
  },
  {
   "cell_type": "code",
   "execution_count": 9,
   "id": "eba43af3",
   "metadata": {},
   "outputs": [
    {
     "data": {
      "text/plain": [
       "Net(\n",
       "  (lstm): LSTM(89, 256, batch_first=True, bidirectional=True)\n",
       "  (fc): Linear(in_features=512, out_features=1, bias=True)\n",
       ")"
      ]
     },
     "execution_count": 9,
     "metadata": {},
     "output_type": "execute_result"
    }
   ],
   "source": [
    "model = Net(89, 256, 1, 1)\n",
    "model.to(device).train()"
   ]
  },
  {
   "cell_type": "code",
   "execution_count": 10,
   "id": "7d8e27b1",
   "metadata": {},
   "outputs": [],
   "source": [
    "optimizer = torch.optim.AdamW(model.parameters(), lr=5e-3)"
   ]
  },
  {
   "cell_type": "code",
   "execution_count": 11,
   "id": "031a25dc",
   "metadata": {},
   "outputs": [],
   "source": [
    "min_loss = 10e100\n",
    "loss_history = []\n",
    "metric_history = []"
   ]
  },
  {
   "cell_type": "code",
   "execution_count": 12,
   "id": "acdc48ca",
   "metadata": {},
   "outputs": [],
   "source": [
    "from sklearn.preprocessing import StandardScaler\n",
    "scaler = StandardScaler()\n",
    "scal = StandardScaler()"
   ]
  },
  {
   "cell_type": "code",
   "execution_count": 13,
   "id": "e48b0c71",
   "metadata": {},
   "outputs": [],
   "source": [
    "data = []\n",
    "data_v = []\n",
    "data_t = []\n",
    "\n",
    "new_def_train = scaler.fit_transform(df_train[:15000].drop('day 90', axis=1)[[f'day {x}' for x in range(1, 90)]].to_numpy())\n",
    "new_train_y = scal.fit_transform(df_train[:15000]['day 90'].to_numpy().reshape(-1, 1))\n",
    "\n",
    "new_def_val = scaler.transform(df_train[15000:].drop('day 90', axis=1)[[f'day {x}' for x in range(1, 90)]].to_numpy())\n",
    "new_val_y = df_train[15000:]['day 90'].to_numpy().reshape(-1, 1)\n",
    "\n",
    "new_def_test = scaler.transform(df_test[[f'day {x}' for x in range(1, 90)]].to_numpy())\n",
    "\n",
    "for value, y in zip(new_def_train, new_train_y):\n",
    "    data.append((value).tolist() + [y])\n",
    "    \n",
    "for value, y in zip(new_def_val, new_val_y):\n",
    "    data_v.append((value).tolist() + [y])\n",
    "    \n",
    "for value in scaler.transform(new_def_test):\n",
    "    data_t.append(value.tolist())"
   ]
  },
  {
   "cell_type": "code",
   "execution_count": 14,
   "id": "97b6c20a",
   "metadata": {},
   "outputs": [
    {
     "data": {
      "text/plain": [
       "89"
      ]
     },
     "execution_count": 14,
     "metadata": {},
     "output_type": "execute_result"
    }
   ],
   "source": [
    "len(data_t[0])"
   ]
  },
  {
   "cell_type": "code",
   "execution_count": 15,
   "id": "aa9634f1",
   "metadata": {},
   "outputs": [],
   "source": [
    "criterion = CustomLoss()"
   ]
  },
  {
   "cell_type": "code",
   "execution_count": 16,
   "id": "147900e6",
   "metadata": {},
   "outputs": [],
   "source": [
    "best_score = -10e100\n",
    "best_epoch = 0"
   ]
  },
  {
   "cell_type": "code",
   "execution_count": 17,
   "id": "b69f429c",
   "metadata": {},
   "outputs": [
    {
     "name": "stderr",
     "output_type": "stream",
     "text": [
      "  0%|                                                                                          | 0/500 [00:00<?, ?it/s]C:\\ProgramData\\Anaconda3\\envs\\nto_final\\lib\\site-packages\\ipykernel_launcher.py:4: UserWarning: Creating a tensor from a list of numpy.ndarrays is extremely slow. Please consider converting the list to a single numpy.ndarray with numpy.array() before converting to a tensor. (Triggered internally at C:\\actions-runner\\_work\\pytorch\\pytorch\\builder\\windows\\pytorch\\torch\\csrc\\utils\\tensor_new.cpp:253.)\n",
      "  after removing the cwd from sys.path.\n",
      "100%|████████████████████████████████████████████████████████████████████████████████| 500/500 [05:56<00:00,  1.40it/s]\n"
     ]
    }
   ],
   "source": [
    "for epoch in tqdm(range(500)):\n",
    "    np.random.shuffle(data)\n",
    "    train_x = torch.tensor([i[:-1] for i in data])\n",
    "    train_y = torch.tensor([i[-1] for i in data])\n",
    "    x_loader = DataLoader(train_x, batch_size=len(train_x))\n",
    "    y_loader = DataLoader(train_y, batch_size=len(train_y))\n",
    "\n",
    "    for x, y in zip(x_loader, y_loader):\n",
    "        output = model(x.view(1, *x.shape).float().to(device))\n",
    "\n",
    "        loss = criterion(output.view(-1), y.view(-1).float().to(device))\n",
    "        \n",
    "        optimizer.zero_grad()\n",
    "        loss.backward()\n",
    "        optimizer.step()\n",
    "        \n",
    "        del x, y\n",
    "        torch.cuda.empty_cache()\n",
    "        \n",
    "        current_loss = round(loss.item(), 4)\n",
    "        loss_history.append(current_loss)\n",
    "        \n",
    "        if current_loss < min_loss:\n",
    "            min_loss = current_loss\n",
    "\n",
    "        loss_data = {\n",
    "            'loss_history': loss_history\n",
    "        }\n",
    "\n",
    "        dataframe = pd.DataFrame(loss_data)\n",
    "        plt.ioff()\n",
    "        fig, ax = plt.subplots()\n",
    "        sns.lineplot(data=dataframe, ax=ax)\n",
    "        plt.title(f'Net loss, min = {min_loss}')\n",
    "        ax.set(xlabel='batches', ylabel='loss')\n",
    "        fig.savefig('net_loss.png')\n",
    "        plt.close()\n",
    "        \n",
    "        val_x = torch.tensor([i[:-1] for i in data_v]).to(torch.float32)\n",
    "        val_y = [i[-1][0] for i in data_v]\n",
    "\n",
    "        output = scal.inverse_transform(model(val_x.view(1, *val_x.shape).to(device)).view(-1).reshape(1, -1).detach().cpu()).reshape(-1).tolist()\n",
    "        metric_data = metric(val_y, list(map(lambda x: int(x * 1), output)))\n",
    "        \n",
    "        if metric_data > best_score:\n",
    "            best_score = metric_data\n",
    "            best_epoch = epoch\n",
    "        \n",
    "        metric_history.append(metric_data)\n",
    "        \n",
    "        metric_data = {\n",
    "            'metric_history': metric_history[5:]\n",
    "        }\n",
    "        \n",
    "        dataframe = pd.DataFrame(metric_data)\n",
    "        plt.ioff()\n",
    "        fig, ax = plt.subplots()\n",
    "        sns.lineplot(data=dataframe, ax=ax)\n",
    "        plt.title(f'Net metric, min = {best_score}')\n",
    "        ax.set(xlabel='batches', ylabel='metric')\n",
    "        fig.savefig('net_metric.png')\n",
    "        plt.close()"
   ]
  },
  {
   "cell_type": "code",
   "execution_count": 18,
   "id": "b78f4913",
   "metadata": {},
   "outputs": [
    {
     "data": {
      "text/plain": [
       "-661"
      ]
     },
     "execution_count": 18,
     "metadata": {},
     "output_type": "execute_result"
    }
   ],
   "source": [
    "best_score"
   ]
  },
  {
   "cell_type": "code",
   "execution_count": 19,
   "id": "99c368d5",
   "metadata": {},
   "outputs": [
    {
     "data": {
      "text/plain": [
       "460"
      ]
     },
     "execution_count": 19,
     "metadata": {},
     "output_type": "execute_result"
    }
   ],
   "source": [
    "best_epoch"
   ]
  },
  {
   "cell_type": "code",
   "execution_count": 20,
   "id": "2aab5cea",
   "metadata": {},
   "outputs": [
    {
     "data": {
      "text/plain": [
       "Net(\n",
       "  (lstm): LSTM(89, 256, batch_first=True, bidirectional=True)\n",
       "  (fc): Linear(in_features=512, out_features=1, bias=True)\n",
       ")"
      ]
     },
     "execution_count": 20,
     "metadata": {},
     "output_type": "execute_result"
    }
   ],
   "source": [
    "model.eval()"
   ]
  },
  {
   "cell_type": "code",
   "execution_count": 21,
   "id": "7f0d2b6a",
   "metadata": {},
   "outputs": [],
   "source": [
    "val_x = torch.tensor([i[:-1] for i in data_v]).to(torch.float32)\n",
    "val_y = [i[-1][0] for i in data_v]\n",
    "\n",
    "output = scal.inverse_transform(model(val_x.view(1, *val_x.shape).to(device)).view(-1).reshape(1, -1).detach().cpu()).reshape(-1).tolist()\n",
    "metric_data = metric(val_y, list(map(lambda x: int(x * 1), output)))"
   ]
  },
  {
   "cell_type": "code",
   "execution_count": 22,
   "id": "e57029bf",
   "metadata": {},
   "outputs": [
    {
     "data": {
      "text/plain": [
       "-690"
      ]
     },
     "execution_count": 22,
     "metadata": {},
     "output_type": "execute_result"
    }
   ],
   "source": [
    "metric_data"
   ]
  },
  {
   "cell_type": "code",
   "execution_count": 23,
   "id": "deb900aa",
   "metadata": {},
   "outputs": [
    {
     "data": {
      "text/plain": [
       "3215"
      ]
     },
     "execution_count": 23,
     "metadata": {},
     "output_type": "execute_result"
    }
   ],
   "source": [
    "len(list(filter(lambda x: x < 0, output)))"
   ]
  },
  {
   "cell_type": "code",
   "execution_count": 24,
   "id": "066800d0",
   "metadata": {},
   "outputs": [],
   "source": [
    "test_x = torch.tensor([i for i in data_t]).to(torch.float32)\n",
    "\n",
    "output_t = scal.inverse_transform(model(test_x.view(1, *test_x.shape).cuda()).view(-1).reshape(1, -1).detach().cpu()).reshape(-1).tolist()\n",
    "output_t = list(map(lambda x: x * 1, output_t))"
   ]
  },
  {
   "cell_type": "code",
   "execution_count": 25,
   "id": "e2a95e61",
   "metadata": {},
   "outputs": [],
   "source": [
    "answer = pd.DataFrame({'id': df_test['id'].tolist(), 'day 91': map(int, output_t)})\n",
    "answer.to_csv('submission.csv', index=False)"
   ]
  },
  {
   "cell_type": "code",
   "execution_count": 26,
   "id": "bd7139c7",
   "metadata": {},
   "outputs": [
    {
     "data": {
      "text/plain": [
       "9999"
      ]
     },
     "execution_count": 26,
     "metadata": {},
     "output_type": "execute_result"
    }
   ],
   "source": [
    "len(list(filter(lambda x: x < 0, output_t)))"
   ]
  },
  {
   "cell_type": "code",
   "execution_count": null,
   "id": "5b1314d3",
   "metadata": {},
   "outputs": [],
   "source": []
  }
 ],
 "metadata": {
  "kernelspec": {
   "display_name": "Python 3 (ipykernel)",
   "language": "python",
   "name": "python3"
  },
  "language_info": {
   "codemirror_mode": {
    "name": "ipython",
    "version": 3
   },
   "file_extension": ".py",
   "mimetype": "text/x-python",
   "name": "python",
   "nbconvert_exporter": "python",
   "pygments_lexer": "ipython3",
   "version": "3.7.15"
  }
 },
 "nbformat": 4,
 "nbformat_minor": 5
}
